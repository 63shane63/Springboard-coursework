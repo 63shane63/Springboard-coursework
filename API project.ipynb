{
 "cells": [
  {
   "cell_type": "markdown",
   "metadata": {},
   "source": [
    "# API Mini project"
   ]
  },
  {
   "cell_type": "markdown",
   "metadata": {},
   "source": [
    "## Could NOT find the data requested by Springboard in the free data portion of URL."
   ]
  },
  {
   "cell_type": "code",
   "execution_count": 1,
   "metadata": {},
   "outputs": [],
   "source": [
    "import os\n",
    "from dotenv import load_dotenv\n",
    "\n",
    "load_dotenv()\n",
    "API_KEY = os.getenv('NASDAQ_API_KEY')\n"
   ]
  },
  {
   "cell_type": "code",
   "execution_count": 2,
   "metadata": {},
   "outputs": [],
   "source": [
    "import requests"
   ]
  },
  {
   "cell_type": "markdown",
   "metadata": {},
   "source": [
    "### Finding the correct URL for our data. The data specified with Springboard was moved to only be viewed with a premium subscription. I scanned through data and decided to request the BIG MAC INDEX data which is data collected on the price ofa Big Mac around the world. I pulled the USA data from April of 2001 to July of 2022.  "
   ]
  },
  {
   "cell_type": "code",
   "execution_count": 3,
   "metadata": {},
   "outputs": [],
   "source": [
    "url = 'https://data.nasdaq.com/api/v3/datasets/ECONOMIST/BIGMAC_USA?column_index=1&start_date=2000-07-31&end_date=2022-07-31&'+ API_KEY"
   ]
  },
  {
   "cell_type": "code",
   "execution_count": 4,
   "metadata": {},
   "outputs": [],
   "source": [
    "r = requests.get(url)"
   ]
  },
  {
   "cell_type": "markdown",
   "metadata": {},
   "source": [
    "### We've sent our request and will print our responce to see if we were succesful which will be given as a 2** number."
   ]
  },
  {
   "cell_type": "code",
   "execution_count": 5,
   "metadata": {},
   "outputs": [
    {
     "name": "stdout",
     "output_type": "stream",
     "text": [
      "<Response [200]>\n"
     ]
    }
   ],
   "source": [
    "print(r)"
   ]
  },
  {
   "cell_type": "code",
   "execution_count": 6,
   "metadata": {},
   "outputs": [],
   "source": [
    "json_data = r.json()"
   ]
  },
  {
   "cell_type": "markdown",
   "metadata": {},
   "source": [
    "### Converted our data to .json. We want to look at the data in the dataset we've received."
   ]
  },
  {
   "cell_type": "code",
   "execution_count": 7,
   "metadata": {},
   "outputs": [
    {
     "data": {
      "text/plain": [
       "[['2022-07-31', 5.15],\n",
       " ['2022-01-31', 5.81],\n",
       " ['2021-07-31', 5.65],\n",
       " ['2021-01-31', 5.66],\n",
       " ['2020-07-31', 5.71],\n",
       " ['2020-01-31', 5.67],\n",
       " ['2019-07-31', 5.74],\n",
       " ['2019-01-31', 5.58],\n",
       " ['2018-07-31', 5.51],\n",
       " ['2018-01-31', 5.28],\n",
       " ['2017-07-31', 5.3],\n",
       " ['2017-01-31', 5.06],\n",
       " ['2016-07-31', 5.04],\n",
       " ['2016-01-31', 4.93],\n",
       " ['2015-07-31', 4.79],\n",
       " ['2015-01-31', 4.79],\n",
       " ['2014-07-31', 4.795],\n",
       " ['2014-01-31', 4.6241666666667],\n",
       " ['2013-07-31', 4.5566666666667],\n",
       " ['2013-01-31', 4.3673958333333],\n",
       " ['2012-07-31', 4.3275],\n",
       " ['2012-01-31', 4.19722],\n",
       " ['2011-07-31', 4.065],\n",
       " ['2010-07-31', 3.7333333333333],\n",
       " ['2010-01-31', 3.58],\n",
       " ['2009-07-31', 3.57],\n",
       " ['2008-06-30', 3.57],\n",
       " ['2007-06-30', 3.41],\n",
       " ['2007-01-31', 3.22],\n",
       " ['2006-05-31', 3.1],\n",
       " ['2006-01-31', 3.15],\n",
       " ['2005-06-30', 3.06],\n",
       " ['2004-05-31', 2.9],\n",
       " ['2003-04-30', 2.71],\n",
       " ['2002-04-30', 2.49],\n",
       " ['2001-04-30', 2.54]]"
      ]
     },
     "execution_count": 7,
     "metadata": {},
     "output_type": "execute_result"
    }
   ],
   "source": [
    "json_data['dataset']['data']"
   ]
  },
  {
   "cell_type": "markdown",
   "metadata": {},
   "source": [
    "### We're shown the dates and  Average price of Big Macs in the USA. We'll iterate over and store this data into separate lists making it easier to work with later. "
   ]
  },
  {
   "cell_type": "code",
   "execution_count": 27,
   "metadata": {},
   "outputs": [
    {
     "name": "stdout",
     "output_type": "stream",
     "text": [
      "[5.15, 5.81, 5.65, 5.66, 5.71, 5.67, 5.74, 5.58, 5.51, 5.28, 5.3, 5.06, 5.04, 4.93, 4.79, 4.79, 4.79, 4.62, 4.56, 4.37, 4.33, 4.2, 4.07, 3.73, 3.58, 3.57, 3.57, 3.41, 3.22, 3.1, 3.15, 3.06, 2.9, 2.71, 2.49, 2.54]\n"
     ]
    }
   ],
   "source": [
    "prices = []\n",
    "dates = []\n",
    "for date , price in json_data['dataset']['data']:\n",
    "    prices.append(round(price, 2))\n",
    "    dates.append(date)  \n",
    "print(prices)"
   ]
  },
  {
   "cell_type": "code",
   "execution_count": 29,
   "metadata": {},
   "outputs": [
    {
     "name": "stdout",
     "output_type": "stream",
     "text": [
      "['2001-04-30', '2002-04-30', '2003-04-30', '2004-05-31', '2005-06-30', '2006-01-31', '2006-05-31', '2007-01-31', '2007-06-30', '2008-06-30', '2009-07-31', '2010-01-31', '2010-07-31', '2011-07-31', '2012-01-31', '2012-07-31', '2013-01-31', '2013-07-31', '2014-01-31', '2014-07-31', '2015-01-31', '2015-07-31', '2016-01-31', '2016-07-31', '2017-01-31', '2017-07-31', '2018-01-31', '2018-07-31', '2019-01-31', '2019-07-31', '2020-01-31', '2020-07-31', '2021-01-31', '2021-07-31', '2022-01-31', '2022-07-31']\n"
     ]
    }
   ],
   "source": [
    "dates.reverse()\n",
    "print(dates)"
   ]
  },
  {
   "cell_type": "code",
   "execution_count": 9,
   "metadata": {},
   "outputs": [
    {
     "name": "stdout",
     "output_type": "stream",
     "text": [
      "[2.54, 2.49, 2.71, 2.9, 3.06, 3.15, 3.1, 3.22, 3.41, 3.57, 3.57, 3.58, 3.73, 4.07, 4.2, 4.33, 4.37, 4.56, 4.62, 4.79, 4.79, 4.79, 4.93, 5.04, 5.06, 5.3, 5.28, 5.51, 5.58, 5.74, 5.67, 5.71, 5.66, 5.65, 5.81, 5.15]\n"
     ]
    }
   ],
   "source": [
    "prices.reverse()\n",
    "print(prices)"
   ]
  },
  {
   "cell_type": "markdown",
   "metadata": {},
   "source": [
    "### Now there are 2 lists, one of dates and the other of prices. We have reversed the list so that the last piece of data is the latest data. We now want to find the percent change from entry to entry. "
   ]
  },
  {
   "cell_type": "code",
   "execution_count": 25,
   "metadata": {},
   "outputs": [
    {
     "name": "stdout",
     "output_type": "stream",
     "text": [
      "[0.0, -1.97, 8.84, 7.01, 5.52, 2.94, -1.59, 3.87, 5.9, 4.69, 0.0, 0.28, 4.19, 9.12, 3.19, 3.1, 0.92, 4.35, 1.32, 3.68, 0.0, 0.0, 2.92, 2.23, 0.4, 4.74, -0.38, 4.36, 1.27, 2.87, -1.22, 0.71, -0.88, -0.18, 2.83, -11.36]\n"
     ]
    }
   ],
   "source": [
    "percent = []\n",
    "counted = []\n",
    "for price in prices:\n",
    "    counted.append(price)\n",
    "    if len(counted) > 1:\n",
    "        percent.append(round( ( (price - counted[-2]) / counted[-2]) * 100, 2 ) )\n",
    "    else:\n",
    "        percent.append(0.0)\n",
    "print(percent )     "
   ]
  },
  {
   "cell_type": "code",
   "execution_count": 33,
   "metadata": {},
   "outputs": [
    {
     "name": "stdout",
     "output_type": "stream",
     "text": [
      "2.046388888888889\n"
     ]
    }
   ],
   "source": [
    "aver_per_change = sum(percent) / len(percent)\n",
    "print(aver_per_change)"
   ]
  },
  {
   "cell_type": "markdown",
   "metadata": {},
   "source": [
    "### We now have a list of percent changes by entry and we can calulate the average percent change over the past 21 years. We can now combine these lists to identify when the biggest changes in price occured. "
   ]
  },
  {
   "cell_type": "code",
   "execution_count": 32,
   "metadata": {},
   "outputs": [
    {
     "data": {
      "text/plain": [
       "[('2001-04-30', 0.0),\n",
       " ('2002-04-30', -1.97),\n",
       " ('2003-04-30', 8.84),\n",
       " ('2004-05-31', 7.01),\n",
       " ('2005-06-30', 5.52),\n",
       " ('2006-01-31', 2.94),\n",
       " ('2006-05-31', -1.59),\n",
       " ('2007-01-31', 3.87),\n",
       " ('2007-06-30', 5.9),\n",
       " ('2008-06-30', 4.69),\n",
       " ('2009-07-31', 0.0),\n",
       " ('2010-01-31', 0.28),\n",
       " ('2010-07-31', 4.19),\n",
       " ('2011-07-31', 9.12),\n",
       " ('2012-01-31', 3.19),\n",
       " ('2012-07-31', 3.1),\n",
       " ('2013-01-31', 0.92),\n",
       " ('2013-07-31', 4.35),\n",
       " ('2014-01-31', 1.32),\n",
       " ('2014-07-31', 3.68),\n",
       " ('2015-01-31', 0.0),\n",
       " ('2015-07-31', 0.0),\n",
       " ('2016-01-31', 2.92),\n",
       " ('2016-07-31', 2.23),\n",
       " ('2017-01-31', 0.4),\n",
       " ('2017-07-31', 4.74),\n",
       " ('2018-01-31', -0.38),\n",
       " ('2018-07-31', 4.36),\n",
       " ('2019-01-31', 1.27),\n",
       " ('2019-07-31', 2.87),\n",
       " ('2020-01-31', -1.22),\n",
       " ('2020-07-31', 0.71),\n",
       " ('2021-01-31', -0.88),\n",
       " ('2021-07-31', -0.18),\n",
       " ('2022-01-31', 2.83),\n",
       " ('2022-07-31', -11.36)]"
      ]
     },
     "execution_count": 32,
     "metadata": {},
     "output_type": "execute_result"
    }
   ],
   "source": [
    " yearly_per_diff = zip(dates, percent)\n",
    "\n",
    "list(yearly_per_diff)"
   ]
  },
  {
   "cell_type": "markdown",
   "metadata": {},
   "source": [
    "### We can find other key data from our list as well like the  max , min , and the average price."
   ]
  },
  {
   "cell_type": "code",
   "execution_count": 12,
   "metadata": {},
   "outputs": [
    {
     "name": "stdout",
     "output_type": "stream",
     "text": [
      "5.81\n"
     ]
    }
   ],
   "source": [
    "print(max(prices))"
   ]
  },
  {
   "cell_type": "code",
   "execution_count": 13,
   "metadata": {},
   "outputs": [
    {
     "name": "stdout",
     "output_type": "stream",
     "text": [
      "2.49\n"
     ]
    }
   ],
   "source": [
    "print(min(prices))"
   ]
  },
  {
   "cell_type": "code",
   "execution_count": 14,
   "metadata": {},
   "outputs": [],
   "source": [
    "average = sum(prices)/len(prices)"
   ]
  },
  {
   "cell_type": "code",
   "execution_count": 15,
   "metadata": {},
   "outputs": [
    {
     "name": "stdout",
     "output_type": "stream",
     "text": [
      "4.38\n"
     ]
    }
   ],
   "source": [
    "print(round(average, 2))"
   ]
  }
 ],
 "metadata": {
  "kernelspec": {
   "display_name": "Python 3",
   "language": "python",
   "name": "python3"
  },
  "language_info": {
   "codemirror_mode": {
    "name": "ipython",
    "version": 3
   },
   "file_extension": ".py",
   "mimetype": "text/x-python",
   "name": "python",
   "nbconvert_exporter": "python",
   "pygments_lexer": "ipython3",
   "version": "3.8.5"
  }
 },
 "nbformat": 4,
 "nbformat_minor": 4
}
